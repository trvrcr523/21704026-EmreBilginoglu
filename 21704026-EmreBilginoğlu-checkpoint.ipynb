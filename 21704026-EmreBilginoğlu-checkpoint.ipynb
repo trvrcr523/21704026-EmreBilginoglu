{
 "cells": [
  {
   "cell_type": "code",
   "execution_count": 5,
   "metadata": {},
   "outputs": [
    {
     "name": "stdout",
     "output_type": "stream",
     "text": [
      "The a value : 12\n",
      "The b value : 30\n",
      "The c value : 12\n",
      "discriminant: 324\n",
      "root1: -0.5\n",
      "root2: -2.0\n"
     ]
    }
   ],
   "source": [
    "a=int(input(\"The a value : \"))\n",
    "b=int(input(\"The b value : \"))\n",
    "c=int(input(\"The c value : \"))\n",
    "\n",
    "d = (b**2) - (4*a*c)\n",
    "print(\"discriminant:\",d)\n",
    "\n",
    "kök1 = ((-b)+(d**0.5))/(2*a)\n",
    "print(\"root1:\",kök1)\n",
    "\n",
    "kök2 = ((-b)-(d**0.5))/(2*a)\n",
    "print(\"root2:\",kök2)\n",
    "\n"
   ]
  },
  {
   "cell_type": "code",
   "execution_count": null,
   "metadata": {},
   "outputs": [],
   "source": []
  },
  {
   "cell_type": "code",
   "execution_count": null,
   "metadata": {},
   "outputs": [],
   "source": []
  },
  {
   "cell_type": "code",
   "execution_count": null,
   "metadata": {},
   "outputs": [],
   "source": []
  }
 ],
 "metadata": {
  "kernelspec": {
   "display_name": "Python 3",
   "language": "python",
   "name": "python3"
  },
  "language_info": {
   "codemirror_mode": {
    "name": "ipython",
    "version": 3
   },
   "file_extension": ".py",
   "mimetype": "text/x-python",
   "name": "python",
   "nbconvert_exporter": "python",
   "pygments_lexer": "ipython3",
   "version": "3.6.5"
  }
 },
 "nbformat": 4,
 "nbformat_minor": 2
}
